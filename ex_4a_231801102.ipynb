{
  "nbformat": 4,
  "nbformat_minor": 0,
  "metadata": {
    "colab": {
      "provenance": [],
      "authorship_tag": "ABX9TyOQG4cNV2ox3SxG9sR7mZby",
      "include_colab_link": true
    },
    "kernelspec": {
      "name": "python3",
      "display_name": "Python 3"
    },
    "language_info": {
      "name": "python"
    }
  },
  "cells": [
    {
      "cell_type": "markdown",
      "metadata": {
        "id": "view-in-github",
        "colab_type": "text"
      },
      "source": [
        "<a href=\"https://colab.research.google.com/github/moghanapriya-27/Datascience/blob/main/ex_4a_231801102.ipynb\" target=\"_parent\"><img src=\"https://colab.research.google.com/assets/colab-badge.svg\" alt=\"Open In Colab\"/></a>"
      ]
    },
    {
      "cell_type": "code",
      "execution_count": null,
      "metadata": {
        "colab": {
          "base_uri": "https://localhost:8080/"
        },
        "id": "ah3IY604gAq6",
        "outputId": "e985f3cf-2b8d-4ca8-b49d-5c56f4f616b0"
      },
      "outputs": [
        {
          "output_type": "stream",
          "name": "stdout",
          "text": [
            "Requirement already satisfied: nltk in /usr/local/lib/python3.12/dist-packages (3.9.1)\n",
            "Requirement already satisfied: scikit-learn in /usr/local/lib/python3.12/dist-packages (1.6.1)\n",
            "Requirement already satisfied: click in /usr/local/lib/python3.12/dist-packages (from nltk) (8.2.1)\n",
            "Requirement already satisfied: joblib in /usr/local/lib/python3.12/dist-packages (from nltk) (1.5.2)\n",
            "Requirement already satisfied: regex>=2021.8.3 in /usr/local/lib/python3.12/dist-packages (from nltk) (2024.11.6)\n",
            "Requirement already satisfied: tqdm in /usr/local/lib/python3.12/dist-packages (from nltk) (4.67.1)\n",
            "Requirement already satisfied: numpy>=1.19.5 in /usr/local/lib/python3.12/dist-packages (from scikit-learn) (2.0.2)\n",
            "Requirement already satisfied: scipy>=1.6.0 in /usr/local/lib/python3.12/dist-packages (from scikit-learn) (1.16.1)\n",
            "Requirement already satisfied: threadpoolctl>=3.1.0 in /usr/local/lib/python3.12/dist-packages (from scikit-learn) (3.6.0)\n"
          ]
        }
      ],
      "source": [
        "\n",
        "!pip install nltk scikit-learn\n",
        "\n",
        "import pandas as pd\n",
        "import numpy as np\n",
        "import nltk\n",
        "import re\n",
        "import string\n",
        "\n",
        "from sklearn.feature_extraction.text import TfidfVectorizer\n",
        "from sklearn.metrics.pairwise import cosine_similarity\n"
      ]
    },
    {
      "cell_type": "code",
      "source": [
        "nltk.download('stopwords')\n",
        "nltk.download('punkt')\n",
        "\n",
        "from nltk.corpus import stopwords\n",
        "from nltk.tokenize import word_tokenize"
      ],
      "metadata": {
        "colab": {
          "base_uri": "https://localhost:8080/"
        },
        "id": "MFRLa9H8iay0",
        "outputId": "d4f317aa-a44f-41eb-f7ba-f09eb3598134"
      },
      "execution_count": null,
      "outputs": [
        {
          "output_type": "stream",
          "name": "stderr",
          "text": [
            "[nltk_data] Downloading package stopwords to /root/nltk_data...\n",
            "[nltk_data]   Package stopwords is already up-to-date!\n",
            "[nltk_data] Downloading package punkt to /root/nltk_data...\n",
            "[nltk_data]   Package punkt is already up-to-date!\n"
          ]
        }
      ]
    },
    {
      "cell_type": "code",
      "source": [
        "# Make sure you upload \"colab.csv\" in /content/ using Colab file browser\n",
        "df = pd.read_csv(\"/content/Reviews.csv\", engine='python', on_bad_lines='skip')\n",
        "\n",
        "# Select the review text column\n",
        "reviews = df['Text'].dropna()\n",
        "\n",
        "# Limit to 10,000 reviews for faster processing\n",
        "reviews = reviews.sample(10000, random_state=42).reset_index(drop=True)\n",
        "\n",
        "reviews.head()"
      ],
      "metadata": {
        "colab": {
          "base_uri": "https://localhost:8080/",
          "height": 241
        },
        "id": "gqw9wQpUihEp",
        "outputId": "491b0696-a8fd-4726-d88c-e45ccb4d7a6a"
      },
      "execution_count": null,
      "outputs": [
        {
          "output_type": "execute_result",
          "data": {
            "text/plain": [
              "0    I enjoyed the popcorn at our minor league ball...\n",
              "1    If you drink coconut water, this is the best c...\n",
              "2    This gum tastes good at first but it has an 'i...\n",
              "3    UNLIKE THE PHONEY LOW CARB AND NO CARB(ACTUALL...\n",
              "4    Before I got this drawer, boxes of pods were t...\n",
              "Name: Text, dtype: object"
            ],
            "text/html": [
              "<div>\n",
              "<style scoped>\n",
              "    .dataframe tbody tr th:only-of-type {\n",
              "        vertical-align: middle;\n",
              "    }\n",
              "\n",
              "    .dataframe tbody tr th {\n",
              "        vertical-align: top;\n",
              "    }\n",
              "\n",
              "    .dataframe thead th {\n",
              "        text-align: right;\n",
              "    }\n",
              "</style>\n",
              "<table border=\"1\" class=\"dataframe\">\n",
              "  <thead>\n",
              "    <tr style=\"text-align: right;\">\n",
              "      <th></th>\n",
              "      <th>Text</th>\n",
              "    </tr>\n",
              "  </thead>\n",
              "  <tbody>\n",
              "    <tr>\n",
              "      <th>0</th>\n",
              "      <td>I enjoyed the popcorn at our minor league ball...</td>\n",
              "    </tr>\n",
              "    <tr>\n",
              "      <th>1</th>\n",
              "      <td>If you drink coconut water, this is the best c...</td>\n",
              "    </tr>\n",
              "    <tr>\n",
              "      <th>2</th>\n",
              "      <td>This gum tastes good at first but it has an 'i...</td>\n",
              "    </tr>\n",
              "    <tr>\n",
              "      <th>3</th>\n",
              "      <td>UNLIKE THE PHONEY LOW CARB AND NO CARB(ACTUALL...</td>\n",
              "    </tr>\n",
              "    <tr>\n",
              "      <th>4</th>\n",
              "      <td>Before I got this drawer, boxes of pods were t...</td>\n",
              "    </tr>\n",
              "  </tbody>\n",
              "</table>\n",
              "</div><br><label><b>dtype:</b> object</label>"
            ]
          },
          "metadata": {},
          "execution_count": 4
        }
      ]
    },
    {
      "cell_type": "code",
      "source": [
        "stop_words = set(stopwords.words('english'))\n",
        "print(f\"Loaded {len(stop_words)} stopwords\")\n"
      ],
      "metadata": {
        "colab": {
          "base_uri": "https://localhost:8080/"
        },
        "id": "O-nBiotWitlz",
        "outputId": "0b4114ac-7d56-4b1c-dab5-2871fba77093"
      },
      "execution_count": null,
      "outputs": [
        {
          "output_type": "stream",
          "name": "stdout",
          "text": [
            "Loaded 198 stopwords\n"
          ]
        }
      ]
    },
    {
      "cell_type": "code",
      "source": [
        "def preprocess_text(text):\n",
        "    # Convert to lowercase\n",
        "    text = text.lower()\n",
        "    # Remove punctuation and special characters\n",
        "    text = re.sub(r'[^a-zA-Z\\s]', '', text)\n",
        "\n",
        "    # Ensure punkt tokenizer is available\n",
        "    try:\n",
        "        word_tokenize(\"test\") # Test if punkt is available\n",
        "    except LookupError:\n",
        "        print(\"Downloading punkt tokenizer...\")\n",
        "        nltk.download('punkt')\n",
        "\n",
        "    # Tokenize\n",
        "    tokens = word_tokenize(text)\n",
        "    # Remove stopwords\n",
        "    tokens = [word for word in tokens if word not in stop_words]\n",
        "    # Join back\n",
        "    return \" \".join(tokens)"
      ],
      "metadata": {
        "id": "-98Ps-zsi5C6"
      },
      "execution_count": null,
      "outputs": []
    },
    {
      "cell_type": "code",
      "source": [
        "reviews_cleaned = reviews.apply(preprocess_text)\n",
        "reviews_cleaned.head()\n"
      ],
      "metadata": {
        "colab": {
          "base_uri": "https://localhost:8080/",
          "height": 241
        },
        "id": "rw3zK9Tti8p7",
        "outputId": "f4c76a43-7fff-416c-dc00-8503701c0fd9"
      },
      "execution_count": null,
      "outputs": [
        {
          "output_type": "execute_result",
          "data": {
            "text/plain": [
              "0    enjoyed popcorn minor league ballpark much cra...\n",
              "1    drink coconut water best commercial one doubt ...\n",
              "2    gum tastes good first interesting tomato after...\n",
              "3    unlike phoney low carb carbactually loaded car...\n",
              "4    got drawer boxes pods taking cabinet like scif...\n",
              "Name: Text, dtype: object"
            ],
            "text/html": [
              "<div>\n",
              "<style scoped>\n",
              "    .dataframe tbody tr th:only-of-type {\n",
              "        vertical-align: middle;\n",
              "    }\n",
              "\n",
              "    .dataframe tbody tr th {\n",
              "        vertical-align: top;\n",
              "    }\n",
              "\n",
              "    .dataframe thead th {\n",
              "        text-align: right;\n",
              "    }\n",
              "</style>\n",
              "<table border=\"1\" class=\"dataframe\">\n",
              "  <thead>\n",
              "    <tr style=\"text-align: right;\">\n",
              "      <th></th>\n",
              "      <th>Text</th>\n",
              "    </tr>\n",
              "  </thead>\n",
              "  <tbody>\n",
              "    <tr>\n",
              "      <th>0</th>\n",
              "      <td>enjoyed popcorn minor league ballpark much cra...</td>\n",
              "    </tr>\n",
              "    <tr>\n",
              "      <th>1</th>\n",
              "      <td>drink coconut water best commercial one doubt ...</td>\n",
              "    </tr>\n",
              "    <tr>\n",
              "      <th>2</th>\n",
              "      <td>gum tastes good first interesting tomato after...</td>\n",
              "    </tr>\n",
              "    <tr>\n",
              "      <th>3</th>\n",
              "      <td>unlike phoney low carb carbactually loaded car...</td>\n",
              "    </tr>\n",
              "    <tr>\n",
              "      <th>4</th>\n",
              "      <td>got drawer boxes pods taking cabinet like scif...</td>\n",
              "    </tr>\n",
              "  </tbody>\n",
              "</table>\n",
              "</div><br><label><b>dtype:</b> object</label>"
            ]
          },
          "metadata": {},
          "execution_count": 10
        }
      ]
    },
    {
      "cell_type": "code",
      "source": [
        "vectorizer = TfidfVectorizer()\n",
        "tfidf_matrix = vectorizer.fit_transform(reviews_cleaned)\n",
        "\n",
        "print(\"TF-IDF matrix shape:\", tfidf_matrix.shape)\n"
      ],
      "metadata": {
        "colab": {
          "base_uri": "https://localhost:8080/"
        },
        "id": "IkoqvUfOjMaC",
        "outputId": "3f4ff563-5f03-49bf-be5b-c5d7b11fb499"
      },
      "execution_count": null,
      "outputs": [
        {
          "output_type": "stream",
          "name": "stdout",
          "text": [
            "TF-IDF matrix shape: (10000, 25813)\n"
          ]
        }
      ]
    },
    {
      "cell_type": "code",
      "source": [
        "def search_reviews(query, top_k=5):\n",
        "    # Preprocess query\n",
        "    cleaned_query = preprocess_text(query)\n",
        "    # Convert to vector\n",
        "    query_vector = vectorizer.transform([cleaned_query])\n",
        "    # Compute cosine similarity\n",
        "    similarities = cosine_similarity(query_vector, tfidf_matrix).flatten()\n",
        "    # Get top k\n",
        "    top_indices = similarities.argsort()[-top_k:][::-1]\n",
        "\n",
        "    results = []\n",
        "    for idx in top_indices:\n",
        "        results.append({\n",
        "            \"original_review\": reviews[idx],\n",
        "            \"cleaned_review\": reviews_cleaned[idx],\n",
        "            \"similarity_score\": similarities[idx]\n",
        "        })\n",
        "    return results\n"
      ],
      "metadata": {
        "id": "r3cwQ0ExjQ1q"
      },
      "execution_count": null,
      "outputs": []
    },
    {
      "cell_type": "code",
      "source": [
        "queries = [\"great product with fast shipping\", \"disappointed\"]\n",
        "\n",
        "for q in queries:\n",
        "    print(f\"\\nQuery: {q}\\n{'='*50}\")\n",
        "    results = search_reviews(q, top_k=3)\n",
        "    for res in results:\n",
        "        print(f\"Score: {res['similarity_score']:.4f}\")\n",
        "        print(f\"Original: {res['original_review']}\")\n",
        "        print(f\"Cleaned: {res['cleaned_review']}\\n\")\n"
      ],
      "metadata": {
        "colab": {
          "base_uri": "https://localhost:8080/"
        },
        "id": "BqPePS8_jT5S",
        "outputId": "2fe50322-dc22-4228-c4cd-a74657d44706"
      },
      "execution_count": null,
      "outputs": [
        {
          "output_type": "stream",
          "name": "stdout",
          "text": [
            "\n",
            "Query: great product with fast shipping\n",
            "==================================================\n",
            "Score: 0.4704\n",
            "Original: I was pleased with the products I had recieved from them.  Very fast shipping!\n",
            "Cleaned: pleased products recieved fast shipping\n",
            "\n",
            "Score: 0.4424\n",
            "Original: This item came very fast! And my French Bulldog ate this stuff even faster!Great product, great price, fast shipping. I recommend this to all dog lovers for a healthy dog treat!\n",
            "Cleaned: item came fast french bulldog ate stuff even fastergreat product great price fast shipping recommend dog lovers healthy dog treat\n",
            "\n",
            "Score: 0.4320\n",
            "Original: After no longer being able to find this product in our local stores. We are so happy that we found a place to buy the chicken helper cheesy chicken enchilda. This product is no only delicious but a fast easy meal. I use can chicken and that makes this a super fast meal. The shipping was really fast too. Thanks\n",
            "Cleaned: longer able find product local stores happy found place buy chicken helper cheesy chicken enchilda product delicious fast easy meal use chicken makes super fast meal shipping really fast thanks\n",
            "\n",
            "\n",
            "Query: disappointed\n",
            "==================================================\n",
            "Score: 0.3881\n",
            "Original: I was disappointed because these cherries are so dry there are tough. I buy a mixture from qvc that is so moist therefore I am disappointed in these cherries/\n",
            "Cleaned: disappointed cherries dry tough buy mixture qvc moist therefore disappointed cherries\n",
            "\n",
            "Score: 0.3689\n",
            "Original: I've been a disappointed with the extracts from this company.  This one is the best that I have had but its not that great.\n",
            "Cleaned: ive disappointed extracts company one best great\n",
            "\n",
            "Score: 0.3331\n",
            "Original: Of the 10 teas I have tried this one ties as number 1, you won't be disappointed.\n",
            "Cleaned: teas tried one ties number wont disappointed\n",
            "\n"
          ]
        }
      ]
    }
  ]
}