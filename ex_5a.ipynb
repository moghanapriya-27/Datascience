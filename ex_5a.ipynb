{
  "cells": [
    {
      "cell_type": "markdown",
      "metadata": {
        "id": "view-in-github",
        "colab_type": "text"
      },
      "source": [
        "<a href=\"https://colab.research.google.com/github/moghanapriya-27/Datascience/blob/main/ex_5a.ipynb\" target=\"_parent\"><img src=\"https://colab.research.google.com/assets/colab-badge.svg\" alt=\"Open In Colab\"/></a>"
      ]
    },
    {
      "cell_type": "code",
      "source": [
        "!pip install nltk spacy\n",
        "!python -m spacy download en_core_web_sm\n"
      ],
      "metadata": {
        "colab": {
          "base_uri": "https://localhost:8080/"
        },
        "id": "Z8C1KSW25WWN",
        "outputId": "d74d318c-e88a-4b86-85c0-dd90f2aee5b5"
      },
      "execution_count": 24,
      "outputs": [
        {
          "output_type": "stream",
          "name": "stdout",
          "text": [
            "Requirement already satisfied: nltk in /usr/local/lib/python3.12/dist-packages (3.9.1)\n",
            "Requirement already satisfied: spacy in /usr/local/lib/python3.12/dist-packages (3.8.7)\n",
            "Requirement already satisfied: click in /usr/local/lib/python3.12/dist-packages (from nltk) (8.2.1)\n",
            "Requirement already satisfied: joblib in /usr/local/lib/python3.12/dist-packages (from nltk) (1.5.1)\n",
            "Requirement already satisfied: regex>=2021.8.3 in /usr/local/lib/python3.12/dist-packages (from nltk) (2024.11.6)\n",
            "Requirement already satisfied: tqdm in /usr/local/lib/python3.12/dist-packages (from nltk) (4.67.1)\n",
            "Requirement already satisfied: spacy-legacy<3.1.0,>=3.0.11 in /usr/local/lib/python3.12/dist-packages (from spacy) (3.0.12)\n",
            "Requirement already satisfied: spacy-loggers<2.0.0,>=1.0.0 in /usr/local/lib/python3.12/dist-packages (from spacy) (1.0.5)\n",
            "Requirement already satisfied: murmurhash<1.1.0,>=0.28.0 in /usr/local/lib/python3.12/dist-packages (from spacy) (1.0.13)\n",
            "Requirement already satisfied: cymem<2.1.0,>=2.0.2 in /usr/local/lib/python3.12/dist-packages (from spacy) (2.0.11)\n",
            "Requirement already satisfied: preshed<3.1.0,>=3.0.2 in /usr/local/lib/python3.12/dist-packages (from spacy) (3.0.10)\n",
            "Requirement already satisfied: thinc<8.4.0,>=8.3.4 in /usr/local/lib/python3.12/dist-packages (from spacy) (8.3.6)\n",
            "Requirement already satisfied: wasabi<1.2.0,>=0.9.1 in /usr/local/lib/python3.12/dist-packages (from spacy) (1.1.3)\n",
            "Requirement already satisfied: srsly<3.0.0,>=2.4.3 in /usr/local/lib/python3.12/dist-packages (from spacy) (2.5.1)\n",
            "Requirement already satisfied: catalogue<2.1.0,>=2.0.6 in /usr/local/lib/python3.12/dist-packages (from spacy) (2.0.10)\n",
            "Requirement already satisfied: weasel<0.5.0,>=0.1.0 in /usr/local/lib/python3.12/dist-packages (from spacy) (0.4.1)\n",
            "Requirement already satisfied: typer<1.0.0,>=0.3.0 in /usr/local/lib/python3.12/dist-packages (from spacy) (0.16.1)\n",
            "Requirement already satisfied: numpy>=1.19.0 in /usr/local/lib/python3.12/dist-packages (from spacy) (2.0.2)\n",
            "Requirement already satisfied: requests<3.0.0,>=2.13.0 in /usr/local/lib/python3.12/dist-packages (from spacy) (2.32.4)\n",
            "Requirement already satisfied: pydantic!=1.8,!=1.8.1,<3.0.0,>=1.7.4 in /usr/local/lib/python3.12/dist-packages (from spacy) (2.11.7)\n",
            "Requirement already satisfied: jinja2 in /usr/local/lib/python3.12/dist-packages (from spacy) (3.1.6)\n",
            "Requirement already satisfied: setuptools in /usr/local/lib/python3.12/dist-packages (from spacy) (75.2.0)\n",
            "Requirement already satisfied: packaging>=20.0 in /usr/local/lib/python3.12/dist-packages (from spacy) (25.0)\n",
            "Requirement already satisfied: langcodes<4.0.0,>=3.2.0 in /usr/local/lib/python3.12/dist-packages (from spacy) (3.5.0)\n",
            "Requirement already satisfied: language-data>=1.2 in /usr/local/lib/python3.12/dist-packages (from langcodes<4.0.0,>=3.2.0->spacy) (1.3.0)\n",
            "Requirement already satisfied: annotated-types>=0.6.0 in /usr/local/lib/python3.12/dist-packages (from pydantic!=1.8,!=1.8.1,<3.0.0,>=1.7.4->spacy) (0.7.0)\n",
            "Requirement already satisfied: pydantic-core==2.33.2 in /usr/local/lib/python3.12/dist-packages (from pydantic!=1.8,!=1.8.1,<3.0.0,>=1.7.4->spacy) (2.33.2)\n",
            "Requirement already satisfied: typing-extensions>=4.12.2 in /usr/local/lib/python3.12/dist-packages (from pydantic!=1.8,!=1.8.1,<3.0.0,>=1.7.4->spacy) (4.15.0)\n",
            "Requirement already satisfied: typing-inspection>=0.4.0 in /usr/local/lib/python3.12/dist-packages (from pydantic!=1.8,!=1.8.1,<3.0.0,>=1.7.4->spacy) (0.4.1)\n",
            "Requirement already satisfied: charset_normalizer<4,>=2 in /usr/local/lib/python3.12/dist-packages (from requests<3.0.0,>=2.13.0->spacy) (3.4.3)\n",
            "Requirement already satisfied: idna<4,>=2.5 in /usr/local/lib/python3.12/dist-packages (from requests<3.0.0,>=2.13.0->spacy) (3.10)\n",
            "Requirement already satisfied: urllib3<3,>=1.21.1 in /usr/local/lib/python3.12/dist-packages (from requests<3.0.0,>=2.13.0->spacy) (2.5.0)\n",
            "Requirement already satisfied: certifi>=2017.4.17 in /usr/local/lib/python3.12/dist-packages (from requests<3.0.0,>=2.13.0->spacy) (2025.8.3)\n",
            "Requirement already satisfied: blis<1.4.0,>=1.3.0 in /usr/local/lib/python3.12/dist-packages (from thinc<8.4.0,>=8.3.4->spacy) (1.3.0)\n",
            "Requirement already satisfied: confection<1.0.0,>=0.0.1 in /usr/local/lib/python3.12/dist-packages (from thinc<8.4.0,>=8.3.4->spacy) (0.1.5)\n",
            "Requirement already satisfied: shellingham>=1.3.0 in /usr/local/lib/python3.12/dist-packages (from typer<1.0.0,>=0.3.0->spacy) (1.5.4)\n",
            "Requirement already satisfied: rich>=10.11.0 in /usr/local/lib/python3.12/dist-packages (from typer<1.0.0,>=0.3.0->spacy) (13.9.4)\n",
            "Requirement already satisfied: cloudpathlib<1.0.0,>=0.7.0 in /usr/local/lib/python3.12/dist-packages (from weasel<0.5.0,>=0.1.0->spacy) (0.21.1)\n",
            "Requirement already satisfied: smart-open<8.0.0,>=5.2.1 in /usr/local/lib/python3.12/dist-packages (from weasel<0.5.0,>=0.1.0->spacy) (7.3.0.post1)\n",
            "Requirement already satisfied: MarkupSafe>=2.0 in /usr/local/lib/python3.12/dist-packages (from jinja2->spacy) (3.0.2)\n",
            "Requirement already satisfied: marisa-trie>=1.1.0 in /usr/local/lib/python3.12/dist-packages (from language-data>=1.2->langcodes<4.0.0,>=3.2.0->spacy) (1.3.0)\n",
            "Requirement already satisfied: markdown-it-py>=2.2.0 in /usr/local/lib/python3.12/dist-packages (from rich>=10.11.0->typer<1.0.0,>=0.3.0->spacy) (4.0.0)\n",
            "Requirement already satisfied: pygments<3.0.0,>=2.13.0 in /usr/local/lib/python3.12/dist-packages (from rich>=10.11.0->typer<1.0.0,>=0.3.0->spacy) (2.19.2)\n",
            "Requirement already satisfied: wrapt in /usr/local/lib/python3.12/dist-packages (from smart-open<8.0.0,>=5.2.1->weasel<0.5.0,>=0.1.0->spacy) (1.17.3)\n",
            "Requirement already satisfied: mdurl~=0.1 in /usr/local/lib/python3.12/dist-packages (from markdown-it-py>=2.2.0->rich>=10.11.0->typer<1.0.0,>=0.3.0->spacy) (0.1.2)\n",
            "Collecting en-core-web-sm==3.8.0\n",
            "  Downloading https://github.com/explosion/spacy-models/releases/download/en_core_web_sm-3.8.0/en_core_web_sm-3.8.0-py3-none-any.whl (12.8 MB)\n",
            "\u001b[2K     \u001b[90m━━━━━━━━━━━━━━━━━━━━━━━━━━━━━━━━━━━━━━━━\u001b[0m \u001b[32m12.8/12.8 MB\u001b[0m \u001b[31m44.3 MB/s\u001b[0m eta \u001b[36m0:00:00\u001b[0m\n",
            "\u001b[?25h\u001b[38;5;2m✔ Download and installation successful\u001b[0m\n",
            "You can now load the package via spacy.load('en_core_web_sm')\n",
            "\u001b[38;5;3m⚠ Restart to reload dependencies\u001b[0m\n",
            "If you are in a Jupyter or Colab notebook, you may need to restart Python in\n",
            "order to load all the package's dependencies. You can do this by selecting the\n",
            "'Restart kernel' or 'Restart runtime' option.\n"
          ]
        }
      ]
    },
    {
      "cell_type": "code",
      "source": [
        "import nltk\n",
        "nltk.download('punkt')\n"
      ],
      "metadata": {
        "colab": {
          "base_uri": "https://localhost:8080/"
        },
        "id": "IwqPr7cr6vhk",
        "outputId": "e800abd8-3670-4992-d0e1-6d29441ee4c8"
      },
      "execution_count": 5,
      "outputs": [
        {
          "output_type": "stream",
          "name": "stderr",
          "text": [
            "[nltk_data] Downloading package punkt to /root/nltk_data...\n",
            "[nltk_data]   Package punkt is already up-to-date!\n"
          ]
        },
        {
          "output_type": "execute_result",
          "data": {
            "text/plain": [
              "True"
            ]
          },
          "metadata": {},
          "execution_count": 5
        }
      ]
    },
    {
      "cell_type": "code",
      "source": [
        "# Import libraries\n",
        "import pandas as pd\n",
        "import nltk\n",
        "import string\n",
        "import spacy\n",
        "from nltk.corpus import stopwords\n",
        "from nltk.tokenize import word_tokenize, sent_tokenize\n",
        "\n",
        "# Download NLTK data\n",
        "nltk.download('punkt')\n",
        "nltk.download('stopwords')\n",
        "nltk.download('averaged_perceptron_tagger')\n",
        "nltk.download('maxent_ne_chunker')\n",
        "nltk.download('words')\n",
        "\n",
        "# Load the dataset assuming you've uploaded Reviews.csv manually in /content/\n",
        "df = pd.read_csv('/content/Reviews.csv', engine='python', quotechar='\"', on_bad_lines='skip')\n",
        "\n",
        "print(f\"Dataset loaded. Number of entries: {len(df)}\")\n"
      ],
      "metadata": {
        "colab": {
          "base_uri": "https://localhost:8080/"
        },
        "id": "OKhv5tc-5_Lv",
        "outputId": "dfd22fc1-cbe5-4d65-9001-2e57f4b0886b"
      },
      "execution_count": 2,
      "outputs": [
        {
          "output_type": "stream",
          "name": "stderr",
          "text": [
            "[nltk_data] Downloading package punkt to /root/nltk_data...\n",
            "[nltk_data]   Package punkt is already up-to-date!\n",
            "[nltk_data] Downloading package stopwords to /root/nltk_data...\n",
            "[nltk_data]   Package stopwords is already up-to-date!\n",
            "[nltk_data] Downloading package averaged_perceptron_tagger to\n",
            "[nltk_data]     /root/nltk_data...\n",
            "[nltk_data]   Package averaged_perceptron_tagger is already up-to-\n",
            "[nltk_data]       date!\n",
            "[nltk_data] Downloading package maxent_ne_chunker to\n",
            "[nltk_data]     /root/nltk_data...\n",
            "[nltk_data]   Package maxent_ne_chunker is already up-to-date!\n",
            "[nltk_data] Downloading package words to /root/nltk_data...\n",
            "[nltk_data]   Package words is already up-to-date!\n"
          ]
        },
        {
          "output_type": "stream",
          "name": "stdout",
          "text": [
            "Dataset loaded. Number of entries: 441513\n"
          ]
        }
      ]
    },
    {
      "cell_type": "code",
      "source": [
        "# Select review text column and clean data\n",
        "reviews = df['Text'].dropna().head(10000).reset_index(drop=True)\n",
        "print(f\"Number of reviews selected: {len(reviews)}\")\n",
        "\n",
        "# Preprocessing function: lowercase + remove punctuation\n",
        "def preprocess_text(text):\n",
        "    text = text.lower()\n",
        "    return text.translate(str.maketrans('', '', string.punctuation))\n",
        "\n",
        "# Apply preprocessing\n",
        "reviews = reviews.apply(preprocess_text)\n",
        "\n",
        "# Check a sample review after preprocessing\n",
        "print(reviews[0])\n"
      ],
      "metadata": {
        "colab": {
          "base_uri": "https://localhost:8080/"
        },
        "id": "ZPr5ofE56ZG9",
        "outputId": "60e6767c-bb43-4dce-e72b-d23cd43b4988"
      },
      "execution_count": 3,
      "outputs": [
        {
          "output_type": "stream",
          "name": "stdout",
          "text": [
            "Number of reviews selected: 10000\n",
            "i have bought several of the vitality canned dog food products and have found them all to be of good quality the product looks more like a stew than a processed meat and it smells better my labrador is finicky and she appreciates this product better than  most\n"
          ]
        }
      ]
    },
    {
      "cell_type": "code",
      "source": [
        "import spacy\n",
        "import pandas as pd\n",
        "import string\n",
        "\n",
        "# Load spaCy English model\n",
        "nlp = spacy.load('en_core_web_sm')\n",
        "\n",
        "# Assuming `reviews` is your preprocessed pandas Series of review texts\n",
        "\n",
        "def spacy_process(text):\n",
        "    doc = nlp(text)\n",
        "    # Tokens: keep alphabetic, non-stopwords\n",
        "    tokens = [token.text for token in doc if token.is_alpha and not token.is_stop]\n",
        "    # POS tags as (token, pos)\n",
        "    pos_tags = [(token.text, token.pos_) for token in doc if token.is_alpha and not token.is_stop]\n",
        "    # Named entities as (entity_text, label)\n",
        "    entities = [(ent.text, ent.label_) for ent in doc.ents]\n",
        "    return tokens, pos_tags, entities\n",
        "\n",
        "# Apply spaCy pipeline to all reviews\n",
        "results = reviews.apply(spacy_process)\n",
        "\n",
        "# Example outputs from first review\n",
        "tokens, pos_tags, entities = results.iloc[0]\n",
        "print(\"Tokens:\", tokens[:20])\n",
        "print(\"POS Tags:\", pos_tags[:20])\n",
        "print(\"Named Entities:\", entities)\n"
      ],
      "metadata": {
        "colab": {
          "base_uri": "https://localhost:8080/"
        },
        "id": "Jnn7s31N6eF1",
        "outputId": "1dd1dbcc-b2e3-4ec5-bb5f-d44975d36b89"
      },
      "execution_count": 8,
      "outputs": [
        {
          "output_type": "stream",
          "name": "stdout",
          "text": [
            "Tokens: ['bought', 'vitality', 'canned', 'dog', 'food', 'products', 'found', 'good', 'quality', 'product', 'looks', 'like', 'stew', 'processed', 'meat', 'smells', 'better', 'labrador', 'finicky', 'appreciates']\n",
            "POS Tags: [('bought', 'VERB'), ('vitality', 'NOUN'), ('canned', 'VERB'), ('dog', 'NOUN'), ('food', 'NOUN'), ('products', 'NOUN'), ('found', 'VERB'), ('good', 'ADJ'), ('quality', 'NOUN'), ('product', 'NOUN'), ('looks', 'VERB'), ('like', 'ADP'), ('stew', 'NOUN'), ('processed', 'VERB'), ('meat', 'NOUN'), ('smells', 'VERB'), ('better', 'ADJ'), ('labrador', 'NOUN'), ('finicky', 'ADJ'), ('appreciates', 'VERB')]\n",
            "Named Entities: []\n"
          ]
        }
      ]
    },
    {
      "cell_type": "code",
      "source": [
        "# Show POS tags and named entities for first 5 reviews\n",
        "for i in range(5):\n",
        "    tokens, pos_tags, entities = results.iloc[i]\n",
        "    print(f\"Review {i+1}:\")\n",
        "    print(\"Tokens:\", tokens[:20])\n",
        "    print(\"POS Tags:\", pos_tags[:20])\n",
        "    print(\"Named Entities:\", entities)\n",
        "    print(\"-\" * 50)\n",
        "\n",
        "# Optional: convert results into DataFrame columns\n",
        "df_processed = pd.DataFrame({\n",
        "    'tokens': results.apply(lambda x: x[0]),\n",
        "    'pos_tags': results.apply(lambda x: x[1]),\n",
        "    'named_entities': results.apply(lambda x: x[2])\n",
        "})\n",
        "\n",
        "# Save processed data if needed\n",
        "df_processed.to_csv('/content/processed_reviews.csv', index=False)\n",
        "print(\"Processed data saved to 'processed_reviews.csv'\")\n"
      ],
      "metadata": {
        "colab": {
          "base_uri": "https://localhost:8080/"
        },
        "id": "ZLsAHhDk9Fsl",
        "outputId": "309615ac-7246-46e0-f312-669fbb791072"
      },
      "execution_count": 9,
      "outputs": [
        {
          "output_type": "stream",
          "name": "stdout",
          "text": [
            "Review 1:\n",
            "Tokens: ['bought', 'vitality', 'canned', 'dog', 'food', 'products', 'found', 'good', 'quality', 'product', 'looks', 'like', 'stew', 'processed', 'meat', 'smells', 'better', 'labrador', 'finicky', 'appreciates']\n",
            "POS Tags: [('bought', 'VERB'), ('vitality', 'NOUN'), ('canned', 'VERB'), ('dog', 'NOUN'), ('food', 'NOUN'), ('products', 'NOUN'), ('found', 'VERB'), ('good', 'ADJ'), ('quality', 'NOUN'), ('product', 'NOUN'), ('looks', 'VERB'), ('like', 'ADP'), ('stew', 'NOUN'), ('processed', 'VERB'), ('meat', 'NOUN'), ('smells', 'VERB'), ('better', 'ADJ'), ('labrador', 'NOUN'), ('finicky', 'ADJ'), ('appreciates', 'VERB')]\n",
            "Named Entities: []\n",
            "--------------------------------------------------\n",
            "Review 2:\n",
            "Tokens: ['product', 'arrived', 'labeled', 'jumbo', 'salted', 'peanutsthe', 'peanuts', 'actually', 'small', 'sized', 'unsalted', 'sure', 'error', 'vendor', 'intended', 'represent', 'product', 'jumbo']\n",
            "POS Tags: [('product', 'NOUN'), ('arrived', 'AUX'), ('labeled', 'VERB'), ('jumbo', 'NOUN'), ('salted', 'VERB'), ('peanutsthe', 'ADJ'), ('peanuts', 'NOUN'), ('actually', 'ADV'), ('small', 'ADJ'), ('sized', 'ADJ'), ('unsalted', 'VERB'), ('sure', 'ADJ'), ('error', 'NOUN'), ('vendor', 'NOUN'), ('intended', 'VERB'), ('represent', 'VERB'), ('product', 'NOUN'), ('jumbo', 'NOUN')]\n",
            "Named Entities: []\n",
            "--------------------------------------------------\n",
            "Review 3:\n",
            "Tokens: ['confection', 'centuries', 'light', 'pillowy', 'citrus', 'gelatin', 'nuts', 'case', 'filberts', 'cut', 'tiny', 'squares', 'liberally', 'coated', 'powdered', 'sugar', 'tiny', 'mouthful', 'heaven', 'chewy']\n",
            "POS Tags: [('confection', 'NOUN'), ('centuries', 'NOUN'), ('light', 'ADJ'), ('pillowy', 'PROPN'), ('citrus', 'NOUN'), ('gelatin', 'VERB'), ('nuts', 'NOUN'), ('case', 'NOUN'), ('filberts', 'NOUN'), ('cut', 'VERB'), ('tiny', 'ADJ'), ('squares', 'NOUN'), ('liberally', 'ADV'), ('coated', 'VERB'), ('powdered', 'ADJ'), ('sugar', 'NOUN'), ('tiny', 'ADJ'), ('mouthful', 'ADJ'), ('heaven', 'PROPN'), ('chewy', 'NOUN')]\n",
            "Named Entities: [('around a few centuries', 'DATE')]\n",
            "--------------------------------------------------\n",
            "Review 4:\n",
            "Tokens: ['looking', 'secret', 'ingredient', 'robitussin', 'believe', 'found', 'got', 'addition', 'root', 'beer', 'extract', 'ordered', 'good', 'cherry', 'soda', 'flavor', 'medicinal']\n",
            "POS Tags: [('looking', 'VERB'), ('secret', 'ADJ'), ('ingredient', 'NOUN'), ('robitussin', 'NOUN'), ('believe', 'VERB'), ('found', 'VERB'), ('got', 'VERB'), ('addition', 'NOUN'), ('root', 'NOUN'), ('beer', 'NOUN'), ('extract', 'NOUN'), ('ordered', 'VERB'), ('good', 'ADJ'), ('cherry', 'NOUN'), ('soda', 'NOUN'), ('flavor', 'NOUN'), ('medicinal', 'ADJ')]\n",
            "Named Entities: []\n",
            "--------------------------------------------------\n",
            "Review 5:\n",
            "Tokens: ['great', 'taffy', 'great', 'price', 'wide', 'assortment', 'yummy', 'taffy', 'delivery', 'quick', 'taffy', 'lover', 'deal']\n",
            "POS Tags: [('great', 'ADJ'), ('taffy', 'NOUN'), ('great', 'ADJ'), ('price', 'NOUN'), ('wide', 'ADJ'), ('assortment', 'NOUN'), ('yummy', 'ADJ'), ('taffy', 'NOUN'), ('delivery', 'NOUN'), ('quick', 'ADJ'), ('taffy', 'ADJ'), ('lover', 'NOUN'), ('deal', 'NOUN')]\n",
            "Named Entities: []\n",
            "--------------------------------------------------\n",
            "Processed data saved to 'processed_reviews.csv'\n"
          ]
        }
      ]
    },
    {
      "cell_type": "code",
      "source": [
        "import matplotlib.pyplot as plt\n",
        "from collections import Counter\n",
        "\n",
        "all_entities = [label for entities in df_processed['named_entities'] for (_, label) in entities]\n",
        "\n",
        "\n",
        "entity_freq = Counter(all_entities)\n",
        "\n",
        "entity_freq_series = pd.Series(entity_freq).sort_values(ascending=False)\n",
        "\n",
        "# Plot top 10 entity labels\n",
        "plt.figure(figsize=(10,6))\n",
        "entity_freq_series.head(10).plot(kind='bar')\n",
        "plt.title('Top 10 Named Entity Labels in Reviews')\n",
        "plt.xlabel('Entity Label')\n",
        "plt.ylabel('Frequency')\n",
        "plt.show()\n"
      ],
      "metadata": {
        "colab": {
          "base_uri": "https://localhost:8080/",
          "height": 459
        },
        "id": "48_H3gvP9LNd",
        "outputId": "9d994f73-2206-4fff-9ec8-86448df88705"
      },
      "execution_count": 10,
      "outputs": [
        {
          "output_type": "display_data",
          "data": {
            "text/plain": [
              "<Figure size 1000x600 with 1 Axes>"
            ],
            "image/png": "[encoded data removed]"
          },
          "metadata": {}
        }
      ]
    },
    {
      "cell_type": "code",
      "source": [
        "from collections import defaultdict\n",
        "\n",
        "# Create a dictionary to store entities by label\n",
        "entities_by_label = defaultdict(list)\n",
        "\n",
        "# Loop over all named entities in the dataset\n",
        "for entities in df_processed['named_entities']:\n",
        "    for text, label in entities:\n",
        "        entities_by_label[label].append(text)\n",
        "\n",
        "# For example, get unique products mentioned (PRODUCT), persons (PERSON), orgs (ORG)\n",
        "unique_products = set(entities_by_label.get('PRODUCT', []))\n",
        "unique_persons = set(entities_by_label.get('PERSON', []))\n",
        "unique_orgs = set(entities_by_label.get('ORG', []))\n",
        "unique_locations = set(entities_by_label.get('GPE', []))\n",
        "\n",
        "print(f\"Number of unique products mentioned: {len(unique_products)}\")\n",
        "print(f\"Sample products: {list(unique_products)[:10]}\")\n",
        "\n",
        "print(f\"\\nNumber of unique persons mentioned: {len(unique_persons)}\")\n",
        "print(f\"Sample persons: {list(unique_persons)[:10]}\")\n",
        "\n",
        "print(f\"\\nNumber of unique organizations mentioned: {len(unique_orgs)}\")\n",
        "print(f\"Sample organizations: {list(unique_orgs)[:10]}\")\n",
        "\n",
        "print(f\"\\nNumber of unique locations mentioned: {len(unique_locations)}\")\n",
        "print(f\"Sample locations: {list(unique_locations)[:10]}\")\n"
      ],
      "metadata": {
        "colab": {
          "base_uri": "https://localhost:8080/"
        },
        "id": "ZauScir_9Qw0",
        "outputId": "82ca908b-2231-4b55-8f05-f9cb13f7dd5f"
      },
      "execution_count": 11,
      "outputs": [
        {
          "output_type": "stream",
          "name": "stdout",
          "text": [
            "Number of unique products mentioned: 36\n",
            "Sample products: ['diet coke', 'guinness', 'sm58', 'sodas', 'hrefhttpwwwamazoncomgpproductb003vxhgdmwolfgang', 'a1', '208f', 'sm57', '3box', 'martin']\n",
            "\n",
            "Number of unique persons mentioned: 615\n",
            "Sample persons: ['joe', 'mike', 'bonsaiboy', 'br chia seeds', 'math7', 'amazonhealthy hearty', 'garlic packaging', 'david buffalo', 'hrefhttpwwwamazoncomgpproductb000gevgxagoccia black truffle', 'innova max']\n",
            "\n",
            "Number of unique organizations mentioned: 318\n",
            "Sample organizations: ['the earl grey', 'house donut shop', 'maple  brown sugar', 'houston texas', 'eat basamati brown', 'san marzano tomatoes', 'wolfgang', 'hrefhttpwwwamazoncomgpproductb000fvum02lundberg', 'justin', 'pioneer']\n",
            "\n",
            "Number of unique locations mentioned: 245\n",
            "Sample locations: ['annabelle', 'san jose', 'hamburg', 'cheddar', 'taco', 'pennsylvania', 'louisiana', 'mgbr', 'woudl', 'creami']\n"
          ]
        }
      ]
    }
  ],
  "metadata": {
    "colab": {
      "provenance": [],
      "authorship_tag": "ABX9TyMKUrE9R6dd5D9ybmG9ReiD",
      "include_colab_link": true
    },
    "kernelspec": {
      "display_name": "Python 3",
      "name": "python3"
    },
    "language_info": {
      "name": "python"
    }
  },
  "nbformat": 4,
  "nbformat_minor": 0
}