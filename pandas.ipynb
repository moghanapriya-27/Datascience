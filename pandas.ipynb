{
  "nbformat": 4,
  "nbformat_minor": 0,
  "metadata": {
    "colab": {
      "provenance": [],
      "authorship_tag": "ABX9TyPDz6+zN2UFEo3Svrk//NeO",
      "include_colab_link": true
    },
    "kernelspec": {
      "name": "python3",
      "display_name": "Python 3"
    },
    "language_info": {
      "name": "python"
    }
  },
  "cells": [
    {
      "cell_type": "markdown",
      "metadata": {
        "id": "view-in-github",
        "colab_type": "text"
      },
      "source": [
        "<a href=\"https://colab.research.google.com/github/moghanapriya-27/Datascience/blob/main/pandas.ipynb\" target=\"_parent\"><img src=\"https://colab.research.google.com/assets/colab-badge.svg\" alt=\"Open In Colab\"/></a>"
      ]
    },
    {
      "cell_type": "code",
      "execution_count": null,
      "metadata": {
        "colab": {
          "base_uri": "https://localhost:8080/"
        },
        "id": "pyFDU0MO6BuG",
        "outputId": "ecd47040-9952-4770-a074-53f45fc7fbc2"
      },
      "outputs": [
        {
          "output_type": "stream",
          "name": "stdout",
          "text": [
            "0    1\n",
            "1    3\n",
            "2    3\n",
            "3    4\n",
            "4    5\n",
            "dtype: int64\n"
          ]
        }
      ],
      "source": [
        "import pandas as pd\n",
        "import numpy as np\n",
        "data =[1,3,3,4,5]\n",
        "data_s=pd.Series(data)\n",
        "print(data_s)\n",
        "#data_s.values=\"numbers\" this is wrong we cannot name the ndex and value by this\n",
        "#data_s.index=\"index\""
      ]
    },
    {
      "cell_type": "markdown",
      "source": [],
      "metadata": {
        "id": "VxRo5_0ST_UX"
      }
    },
    {
      "cell_type": "code",
      "source": [
        "import pandas as pd\n",
        "import numpy as np\n",
        "data=[1,2,3,4]\n",
        "a=print(pd.Series(data))\n",
        "print(type(a))\n",
        "#returns a series with integer and everey function returns a value and print returns \"none\" so it is described nonetype\n",
        "b=pd.Series(data)\n",
        "print(type(b))\n",
        "d=[1,2,3,np.nan]\n",
        "c=pd.Series(d)\n",
        "print(c,type(c))\n",
        "\n"
      ],
      "metadata": {
        "id": "EdzhVhrICFMt",
        "colab": {
          "base_uri": "https://localhost:8080/"
        },
        "outputId": "248d342b-50c9-46c9-8e03-23d4d476e749"
      },
      "execution_count": null,
      "outputs": [
        {
          "output_type": "stream",
          "name": "stdout",
          "text": [
            "0    1\n",
            "1    2\n",
            "2    3\n",
            "3    4\n",
            "dtype: int64\n",
            "<class 'NoneType'>\n",
            "<class 'pandas.core.series.Series'>\n",
            "0    1.0\n",
            "1    2.0\n",
            "2    3.0\n",
            "3    NaN\n",
            "dtype: float64 <class 'pandas.core.series.Series'>\n"
          ]
        }
      ]
    },
    {
      "cell_type": "code",
      "metadata": {
        "colab": {
          "base_uri": "https://localhost:8080/"
        },
        "id": "9c2eac99",
        "outputId": "022d6605-a43e-4d27-c1fd-8f0de0f80857"
      },
      "source": [
        "data_s.name = \"Numbers\"\n",
        "data_s.index.name = \"Index\"\n",
        "print(data_s)\n",
        "s=data_s>25\n",
        "print(s)\n",
        "print(data_s.notnull())\n",
        "print(data_s[data_s.isnull()])"
      ],
      "execution_count": null,
      "outputs": [
        {
          "output_type": "stream",
          "name": "stdout",
          "text": [
            "Index\n",
            "0    1\n",
            "1    3\n",
            "2    3\n",
            "3    4\n",
            "4    5\n",
            "Name: Numbers, dtype: int64\n",
            "Index\n",
            "0    False\n",
            "1    False\n",
            "2    False\n",
            "3    False\n",
            "4    False\n",
            "Name: Numbers, dtype: bool\n",
            "Index\n",
            "0    True\n",
            "1    True\n",
            "2    True\n",
            "3    True\n",
            "4    True\n",
            "Name: Numbers, dtype: bool\n",
            "Series([], Name: Numbers, dtype: int64)\n"
          ]
        }
      ]
    },
    {
      "cell_type": "code",
      "source": [
        "import pandas as pd\n",
        "import numpy as np\n",
        "a=[\"x\",\"y\",\"z\"]\n",
        "data=[1,3,7]\n",
        "series=pd.Series(data,index=a)\n",
        "print(series)\n",
        "s=series*2\n",
        "print(s)\n",
        "print(np.sqrt(s))"
      ],
      "metadata": {
        "colab": {
          "base_uri": "https://localhost:8080/"
        },
        "id": "CfBqZdbZ_HyR",
        "outputId": "2ac7e7aa-9485-4466-8f46-8b36f3d6bc19"
      },
      "execution_count": null,
      "outputs": [
        {
          "output_type": "stream",
          "name": "stdout",
          "text": [
            "x    1\n",
            "y    3\n",
            "z    7\n",
            "dtype: int64\n",
            "x     2\n",
            "y     6\n",
            "z    14\n",
            "dtype: int64\n",
            "x    1.414214\n",
            "y    2.449490\n",
            "z    3.741657\n",
            "dtype: float64\n"
          ]
        }
      ]
    },
    {
      "cell_type": "code",
      "source": [
        "import pandas as pd\n",
        "\n",
        "\n",
        "fruits = pd.Series([10, 20, 15], index=['apple', 'banana', 'cherry'])\n",
        "print(\"Original Series:\\n\", fruits)\n",
        "\n",
        "\n",
        "new_index = ['banana', 'apple', 'cherry', 'mango']\n",
        "reindexed_fruits = fruits.reindex(new_index)\n",
        "print(\"\\nReindexed Series:\\n\", reindexed_fruits)"
      ],
      "metadata": {
        "id": "7c6ZVmA3A6_H",
        "outputId": "49f07da0-6c5f-46f2-9a77-61fbe6dd7acb",
        "colab": {
          "base_uri": "https://localhost:8080/"
        }
      },
      "execution_count": null,
      "outputs": [
        {
          "output_type": "stream",
          "name": "stdout",
          "text": [
            "Original Series:\n",
            " apple     10\n",
            "banana    20\n",
            "cherry    15\n",
            "dtype: int64\n",
            "\n",
            "Reindexed Series:\n",
            " banana    20.0\n",
            "apple     10.0\n",
            "cherry    15.0\n",
            "mango      NaN\n",
            "dtype: float64\n"
          ]
        }
      ]
    },
    {
      "cell_type": "code",
      "source": [
        "\n",
        "import pandas as pd\n",
        "# Price of fruits in two different stores\n",
        "store1_prices = pd.Series({'apple': 30, 'banana': 25, 'cherry': 40})\n",
        "store2_prices = pd.Series({'banana': 22, 'cherry': 45, 'apple': 35})\n",
        "\n",
        "# Calculate average prices\n",
        "average_prices = (store1_prices + store2_prices) / 2\n",
        "print(\"\\nAverage Prices:\\n\", average_prices)"
      ],
      "metadata": {
        "colab": {
          "base_uri": "https://localhost:8080/"
        },
        "id": "HhQczT6NCHG9",
        "outputId": "924a9f7a-14c8-46ad-e7f6-023907d7dbc0"
      },
      "execution_count": null,
      "outputs": [
        {
          "output_type": "stream",
          "name": "stdout",
          "text": [
            "\n",
            "Average Prices:\n",
            " apple     32.5\n",
            "banana    23.5\n",
            "cherry    42.5\n",
            "dtype: float64\n"
          ]
        }
      ]
    },
    {
      "cell_type": "code",
      "source": [
        "import pandas as pd\n",
        "# A series with missing values after reindex\n",
        "colors = pd.Series({'red': 10, 'blue': 20})\n",
        "reindexed_colors = colors.reindex(['red', 'blue', 'green'])\n",
        "print(\"\\nBefore Filling Missing:\\n\", reindexed_colors)\n",
        "\n",
        "# Fill missing with default value\n",
        "filled_colors = reindexed_colors.fillna(0)\n",
        "print(\"\\nAfter Filling Missing:\\n\", filled_colors)"
      ],
      "metadata": {
        "id": "9Yvf4nYTDZ05",
        "outputId": "aea6d99a-4797-4872-9733-ef8aaaaab990",
        "colab": {
          "base_uri": "https://localhost:8080/"
        }
      },
      "execution_count": null,
      "outputs": [
        {
          "output_type": "stream",
          "name": "stdout",
          "text": [
            "\n",
            "Before Filling Missing:\n",
            " red      10.0\n",
            "blue     20.0\n",
            "green     NaN\n",
            "dtype: float64\n",
            "\n",
            "After Filling Missing:\n",
            " red      10.0\n",
            "blue     20.0\n",
            "green     0.0\n",
            "dtype: float64\n"
          ]
        }
      ]
    },
    {
      "cell_type": "code",
      "source": [
        "import pandas as pd\n",
        "data={\"telengana\":[90,98,97],\"andhra\":[29,78,56],\"tamilnadu\":[1,2,3]}\n",
        "dt=pd.DataFrame(data)\n",
        "print(dt)\n",
        "dt[\"tele\"]=[\"\",\"\",\"\"]\n",
        "print(dt)"
      ],
      "metadata": {
        "colab": {
          "base_uri": "https://localhost:8080/"
        },
        "id": "q9RcSwsINd9Y",
        "outputId": "4e7f1aab-ebe0-45d6-e8b8-114aa97fcb56"
      },
      "execution_count": null,
      "outputs": [
        {
          "output_type": "stream",
          "name": "stdout",
          "text": [
            "   telengana  andhra  tamilnadu\n",
            "0         90      29          1\n",
            "1         98      78          2\n",
            "2         97      56          3\n",
            "   telengana  andhra  tamilnadu tele\n",
            "0         90      29          1     \n",
            "1         98      78          2     \n",
            "2         97      56          3     \n"
          ]
        }
      ]
    },
    {
      "cell_type": "code",
      "metadata": {
        "colab": {
          "base_uri": "https://localhost:8080/"
        },
        "id": "1bb4f2fc",
        "outputId": "fe3e807d-1d14-4a19-b076-d48ddee8f303"
      },
      "source": [
        "# Add a new column 'karnataka' to the DataFrame dt\n",
        "dt['karnataka'] = [10, 20, 30]\n",
        "print(dt)"
      ],
      "execution_count": null,
      "outputs": [
        {
          "output_type": "stream",
          "name": "stdout",
          "text": [
            "   telengana  andhra  tamilnadu  karnataka\n",
            "0         90      29          1         10\n",
            "1         98      78          2         20\n",
            "2         97      56          3         30\n"
          ]
        }
      ]
    },
    {
      "cell_type": "code",
      "source": [
        "#dataframe from list of list\n",
        "import pandas as pd\n",
        "import numpy as np\n",
        "data=[[\"jaguar\",1.70],\n",
        "      [\"bmw\",2.89],\n",
        "      [\"audi\",2.7],\n",
        "      [\"ferrari\",11.94],\n",
        "      [\"benz\",4.5]]\n",
        "column_n=[\"suvs\",\"onroadprice in cr\"]\n",
        "data_n=pd.DataFrame(data,columns=column_n)\n",
        "print(data_n)\n",
        "#creation of dictionary of list\n",
        "d={\"bikes\":[\"hyabusa\",\"kwasaki\",\"ktm\",\"herohonda\",\"jupiter\"],\n",
        "   \"price in lakh\":[16,1.22,2.06,0.5,0.7]}\n",
        "d_f=pd.DataFrame(d)\n",
        "print(d_f)\n",
        "#creation of new column\n",
        "d_f[\"specification\"]=\" \"\n",
        "print(d_f)\n",
        "d_f[\"specification\"]= [\"superbike\", \"ninja\", \"stunt\", \"commuter\", \"scooter\"]\n",
        "print(d_f)\n",
        "S=pd.Series( [\"superbike\", \"ninja\", \"stunt\",  \"scooter\"],index=[0,2,1,4])\n",
        "d_f[\"specification\"]=S\n",
        "print(d_f)"
      ],
      "metadata": {
        "colab": {
          "base_uri": "https://localhost:8080/"
        },
        "id": "blEI4Z_pcfVO",
        "outputId": "3bc78efc-1345-49e1-fa88-558d89978e1e"
      },
      "execution_count": null,
      "outputs": [
        {
          "output_type": "stream",
          "name": "stdout",
          "text": [
            "      suvs  onroadprice in cr\n",
            "0   jaguar               1.70\n",
            "1      bmw               2.89\n",
            "2     audi               2.70\n",
            "3  ferrari              11.94\n",
            "4     benz               4.50\n",
            "       bikes  price in lakh\n",
            "0    hyabusa          16.00\n",
            "1    kwasaki           1.22\n",
            "2        ktm           2.06\n",
            "3  herohonda           0.50\n",
            "4    jupiter           0.70\n",
            "       bikes  price in lakh specification\n",
            "0    hyabusa          16.00              \n",
            "1    kwasaki           1.22              \n",
            "2        ktm           2.06              \n",
            "3  herohonda           0.50              \n",
            "4    jupiter           0.70              \n",
            "       bikes  price in lakh specification\n",
            "0    hyabusa          16.00     superbike\n",
            "1    kwasaki           1.22         ninja\n",
            "2        ktm           2.06         stunt\n",
            "3  herohonda           0.50      commuter\n",
            "4    jupiter           0.70       scooter\n",
            "       bikes  price in lakh specification\n",
            "0    hyabusa          16.00     superbike\n",
            "1    kwasaki           1.22         stunt\n",
            "2        ktm           2.06         ninja\n",
            "3  herohonda           0.50           NaN\n",
            "4    jupiter           0.70       scooter\n"
          ]
        }
      ]
    },
    {
      "cell_type": "code",
      "source": [
        "import pandas as pd\n",
        "import numpy as np\n",
        "#dict of dicts\n",
        "a={\n",
        "    \"greetings\":{100:\"hello\",101:\"vanakkam\",102:\"namaste\"},\"wish\":{100:\"good\",101:\"happy\",102:\"joy\"}\n",
        "}\n",
        "c=pd.DataFrame(a)\n",
        "print(c)\n",
        "c=pd.DataFrame(a,index=[100,101,103])\n",
        "print(c,type(c))\n",
        "print(c.T)\n"
      ],
      "metadata": {
        "colab": {
          "base_uri": "https://localhost:8080/"
        },
        "id": "IrBtq87XUozd",
        "outputId": "b5556d08-a4ea-465d-a359-58c2fda6dfa7"
      },
      "execution_count": null,
      "outputs": [
        {
          "output_type": "stream",
          "name": "stdout",
          "text": [
            "    greetings   wish\n",
            "100     hello   good\n",
            "101  vanakkam  happy\n",
            "102   namaste    joy\n",
            "    greetings   wish\n",
            "100     hello   good\n",
            "101  vanakkam  happy\n",
            "103       NaN    NaN <class 'pandas.core.frame.DataFrame'>\n",
            "             100       101  103\n",
            "greetings  hello  vanakkam  NaN\n",
            "wish        good     happy  NaN\n"
          ]
        }
      ]
    },
    {
      "cell_type": "code",
      "source": [
        "moghanapriya R\n",
        "231801102,\n",
        "Ai and Ds"
      ],
      "metadata": {
        "id": "zh2nsJGPApzC"
      },
      "execution_count": null,
      "outputs": []
    }
  ]
}