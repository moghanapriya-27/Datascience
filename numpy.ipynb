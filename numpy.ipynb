{
  "nbformat": 4,
  "nbformat_minor": 0,
  "metadata": {
    "colab": {
      "provenance": [],
      "mount_file_id": "1ziC1gMjhGBz9EJFS0rDZOlzPtcCTH2Ur",
      "authorship_tag": "ABX9TyNeDVCjzd77fvwtk2G3Tz1N",
      "include_colab_link": true
    },
    "kernelspec": {
      "name": "python3",
      "display_name": "Python 3"
    },
    "language_info": {
      "name": "python"
    }
  },
  "cells": [
    {
      "cell_type": "markdown",
      "metadata": {
        "id": "view-in-github",
        "colab_type": "text"
      },
      "source": [
        "<a href=\"https://colab.research.google.com/github/moghanapriya-27/Datascience/blob/main/numpy.ipynb\" target=\"_parent\"><img src=\"https://colab.research.google.com/assets/colab-badge.svg\" alt=\"Open In Colab\"/></a>"
      ]
    },
    {
      "cell_type": "code",
      "execution_count": null,
      "metadata": {
        "colab": {
          "base_uri": "https://localhost:8080/"
        },
        "id": "8toIRALtTxze",
        "outputId": "a11fe96f-0f88-40e7-bb71-40b360d1c2d1"
      },
      "outputs": [
        {
          "output_type": "stream",
          "name": "stdout",
          "text": [
            "[[False False False False]\n",
            " [False  True  True  True]\n",
            " [ True  True  True  True]]\n",
            "[[False False False False]\n",
            " [False  True  True  True]\n",
            " [ True  True  True  True]]\n",
            "[1 1 1 1 1 1 1]\n",
            "[[0 1 2 3]\n",
            " [4 1 1 1]\n",
            " [1 1 1 1]]\n"
          ]
        }
      ],
      "source": [
        "import numpy as np\n",
        "a=np.arange(12).reshape(3,4)\n",
        "b=a>4\n",
        "print(b)\n",
        "a[b]=1\n",
        "print(b)\n",
        "print(a[b])\n",
        "print(a)"
      ]
    },
    {
      "cell_type": "code",
      "source": [
        "from google.colab import drive\n",
        "drive.mount('/content/drive')"
      ],
      "metadata": {
        "id": "NUQ7kQ2pcjH2"
      },
      "execution_count": null,
      "outputs": []
    },
    {
      "cell_type": "code",
      "source": [
        "import numpy as np\n",
        "names=np.array([\"bob\",\"jope\",\"joe\",\"bob\",\"jope\",\"jope\",\"jope\"])\n",
        "data=np.arange(28).reshape(7,4)\n",
        "print(data[names==\"bob\"])\n",
        "print(data[names==\"bob\",:2])\n",
        "print(data[names==\"bob\",3])"
      ],
      "metadata": {
        "colab": {
          "base_uri": "https://localhost:8080/"
        },
        "id": "8DShQudvVTbk",
        "outputId": "2eab531e-6f12-4fcd-ac17-f835e7b4680f"
      },
      "execution_count": null,
      "outputs": [
        {
          "output_type": "stream",
          "name": "stdout",
          "text": [
            "[[ 0  1  2  3]\n",
            " [12 13 14 15]]\n",
            "[[ 0  1]\n",
            " [12 13]]\n",
            "[ 3 15]\n"
          ]
        }
      ]
    },
    {
      "cell_type": "code",
      "source": [
        "#basic indexing and slicing\n",
        "import numpy as np\n",
        "a=np.arange(10)\n",
        "print(\"the original array is :\",a)\n",
        "print(a[0:4])\n",
        "a[0:4]=3\n",
        "print(a)\n",
        "print(a[::3])\n",
        "print(a[4:7])\n",
        "view=a[1:2]=3\n",
        "print(view)\n",
        "print(a[::-3])\n"
      ],
      "metadata": {
        "colab": {
          "base_uri": "https://localhost:8080/"
        },
        "id": "pNSmQVIabhd1",
        "outputId": "967852b2-ee41-4a4a-d7a3-dbcbc409d567"
      },
      "execution_count": null,
      "outputs": [
        {
          "output_type": "stream",
          "name": "stdout",
          "text": [
            "the original array is : [0 1 2 3 4 5 6 7 8 9]\n",
            "[0 1 2 3]\n",
            "[3 3 3 3 4 5 6 7 8 9]\n",
            "[3 3 6 9]\n",
            "[4 5 6]\n",
            "3\n",
            "[9 6 3 3]\n"
          ]
        }
      ]
    },
    {
      "cell_type": "code",
      "source": [
        "import numpy as np\n",
        "a = np.arange(16).reshape(8,2)\n",
        "print(\"Original array 'a':\")\n",
        "print(a)\n",
        "\n",
        "a_copy = a[:].copy()\n",
        "# Modify an element in the copy\n",
        "a_copy[1,1] = 99\n",
        "\n",
        "print(\"\\nModified copy 'a_copy':\")\n",
        "print(a_copy)\n",
        "\n",
        "print(\"\\nOriginal array 'a' after modifying the copy:\")\n",
        "print(a)"
      ],
      "metadata": {
        "colab": {
          "base_uri": "https://localhost:8080/"
        },
        "id": "DcwYepjrfs_-",
        "outputId": "c2689d38-b1f6-4c50-e153-184601c6559e"
      },
      "execution_count": null,
      "outputs": [
        {
          "output_type": "stream",
          "name": "stdout",
          "text": [
            "Original array 'a':\n",
            "[[ 0  1]\n",
            " [ 2  3]\n",
            " [ 4  5]\n",
            " [ 6  7]\n",
            " [ 8  9]\n",
            " [10 11]\n",
            " [12 13]\n",
            " [14 15]]\n",
            "\n",
            "Modified copy 'a_copy':\n",
            "[[ 0  1]\n",
            " [ 2 99]\n",
            " [ 4  5]\n",
            " [ 6  7]\n",
            " [ 8  9]\n",
            " [10 11]\n",
            " [12 13]\n",
            " [14 15]]\n",
            "\n",
            "Original array 'a' after modifying the copy:\n",
            "[[ 0  1]\n",
            " [ 2  3]\n",
            " [ 4  5]\n",
            " [ 6  7]\n",
            " [ 8  9]\n",
            " [10 11]\n",
            " [12 13]\n",
            " [14 15]]\n"
          ]
        }
      ]
    },
    {
      "cell_type": "code",
      "source": [
        "MOGHANAPRIYA R\n",
        "231801102"
      ],
      "metadata": {
        "id": "eEo4r_BSgIfh"
      },
      "execution_count": null,
      "outputs": []
    }
  ]
}